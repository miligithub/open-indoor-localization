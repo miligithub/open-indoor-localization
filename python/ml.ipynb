{
 "metadata": {
  "language_info": {
   "codemirror_mode": {
    "name": "ipython",
    "version": 3
   },
   "file_extension": ".py",
   "mimetype": "text/x-python",
   "name": "python",
   "nbconvert_exporter": "python",
   "pygments_lexer": "ipython3",
   "version": "3.7.9-final"
  },
  "orig_nbformat": 2,
  "kernelspec": {
   "name": "python3",
   "display_name": "Python 3"
  }
 },
 "nbformat": 4,
 "nbformat_minor": 2,
 "cells": [
  {
   "cell_type": "code",
   "execution_count": null,
   "metadata": {},
   "outputs": [],
   "source": [
    "# Python ≥3.5 is required\n",
    "import sys\n",
    "assert sys.version_info >= (3, 5)\n",
    "\n",
    "# Scikit-Learn ≥0.20 is required\n",
    "import sklearn\n",
    "assert sklearn.__version__ >= \"0.20\"\n",
    "\n",
    "# Common imports\n",
    "import numpy as np\n",
    "import os\n",
    "import pandas as pd\n",
    "\n",
    "# To plot pretty figures\n",
    "%matplotlib inline\n",
    "import matplotlib as mpl\n",
    "import matplotlib.pyplot as plt\n",
    "import matplotlib.image as mpimg\n",
    "import cv2\n",
    "\n",
    "# plt.style.use(['seaborn-pastel','dark_background'])\n",
    "mpl.rcParams['figure.facecolor'] = 'whitesmoke'\n",
    "mpl.rcParams['axes.facecolor'] = 'white'\n",
    "# mpl.rcParams['figure.figsize'] = 7, 10\n",
    "mpl.rc('axes', labelsize=14)\n",
    "mpl.rc('xtick', labelsize=12)\n",
    "mpl.rc('ytick', labelsize=12)\n",
    "\n",
    "# show multiple outputs\n",
    "from IPython.core.interactiveshell import InteractiveShell\n",
    "InteractiveShell.ast_node_interactivity = \"all\"\n",
    "\n",
    "# download images\n",
    "import urllib.request\n",
    "\n",
    "# Where to save the figures\n",
    "PROJECT_ROOT_DIR = \".\"\n",
    "CHAPTER_ID = \"fingerprint\"\n",
    "IMAGES_PATH = os.path.join(PROJECT_ROOT_DIR, \"images\", CHAPTER_ID)\n",
    "os.makedirs(IMAGES_PATH, exist_ok=True)\n",
    "\n",
    "def save_fig(fig_id, tight_layout=True, fig_extension=\"png\", resolution=300):\n",
    "    path = os.path.join(IMAGES_PATH, fig_id + \".\" + fig_extension)\n",
    "    print(\"Saving figure\", fig_id)\n",
    "    if tight_layout:\n",
    "        plt.tight_layout()\n",
    "    plt.savefig(path, format=fig_extension, dpi=resolution)\n",
    "\n",
    "def download_fig(fig_id, fig_url, fig_extension=\"jpg\"):\n",
    "    print(\"Downloading\", fig_url)\n",
    "    req = urllib.request.Request(url)\n",
    "    # Customize the default User-Agent header value:\n",
    "    req.add_header('User-Agent', 'Mozilla/5.0')\n",
    "    response = urllib.request.urlopen(req)\n",
    "    image = response.read()\n",
    "    filename = fig_id + \".\" + fig_extension\n",
    "    with open(os.path.join(IMAGES_PATH, filename), \"wb\") as file:\n",
    "        file.write(image)\n",
    "\n",
    "# Ignore useless warnings (see SciPy issue #5998)\n",
    "import warnings\n",
    "warnings.filterwarnings(action=\"ignore\", message=\"^internal gelsd\")\n",
    "\n",
    "\n",
    "print(\"Setup finished!\")"
   ]
  },
  {
   "cell_type": "code",
   "execution_count": null,
   "metadata": {},
   "outputs": [],
   "source": [
    "def process(file_name, sorted_mac):\n",
    "    filef = open(file_name, \"r\")\n",
    "    line = filef.readline()\n",
    "    data_dict = {'grid_id': [], 'x': [], 'y': [], 'mac': [], 'type': [], 'rssi': []}\n",
    "    grid_id = 0\n",
    "    while True:\n",
    "            if line.strip() is not '':\n",
    "                grid_id += 1\n",
    "                grid_title = line.split(\" \")\n",
    "                print(grid_title)\n",
    "                grid_pos = [float(grid_title[0]), float(grid_title[1])]\n",
    "                for i in range(int(grid_title[2])):\n",
    "                    line = filef.readline().rstrip(\"\\n\")\n",
    "                    record = line.split(\"|\")\n",
    "                    ap = record[0].split(\" \")\n",
    "                    data_dict['grid_id'].append(grid_id)\n",
    "                    data_dict['x'].append(grid_pos[0])\n",
    "                    data_dict['y'].append(grid_pos[1])\n",
    "                    data_dict['mac'].append(ap[0][0:17])\n",
    "                    data_dict['type'].append(ap[2])\n",
    "                    rssi_list = record[1].strip().split(' ') if record[1].strip() != '' else [ap[1]]\n",
    "                    data_dict['rssi'].append(float(np.array(rssi_list).astype(np.float).mean()))\n",
    "            line = filef.readline()\n",
    "            if not line:\n",
    "                break\n",
    "    filef.close()\n",
    "    data_frame = pd.DataFrame.from_dict(data_dict)\n",
    "    \n",
    "    grouped = data_frame.groupby(by=['grid_id'])\n",
    "    grid_sum = len(grouped.groups)\n",
    "    theta = np.full(shape=(grid_sum, len( sorted_mac)), fill_value=-100.)\n",
    "    grid_index = 0\n",
    "    grid_position = np.full(shape=(grid_sum, 2), fill_value=0)\n",
    "    for name, group in grouped:\n",
    "            for index, row in group.iterrows():\n",
    "                if row['mac'] in sorted_mac:\n",
    "                    ap_index = sorted_mac.index(row['mac'])\n",
    "                    theta[grid_index, ap_index] = row['rssi']\n",
    "            grid_position[grid_index] = [group[\"x\"].mean(), group['y'].mean()]\n",
    "            grid_index += 1 \n",
    "    data = {\"theta\": theta, \"position\": grid_position}\n",
    "    df = pd.DataFrame({k:list(v) for k,v in data.items()})\n",
    "    return df"
   ]
  },
  {
   "cell_type": "code",
   "execution_count": null,
   "metadata": {},
   "outputs": [],
   "source": [
    "# grouped_df = data_frame.groupby(by=['x','y'])\n",
    "# # for key,item in grouped_df:\n",
    "# #     a_group = grouped_df.get_group(key)\n",
    "# #     print(a_group, \"\\n\")\n",
    "# sorted_mac = None\n",
    "# filter_mac = None\n",
    "# use_type = 'w'\n",
    "# grid_sum = len(grouped_df.groups)\n",
    "# if not sorted_mac:\n",
    "#     mac = set(data_frame[data_frame['type'] == use_type]['mac'].unique())\n",
    "#     sorted_mac = sorted(mac & filter_mac if filter_mac else mac)\n",
    "# sorted_mac"
   ]
  },
  {
   "cell_type": "code",
   "execution_count": null,
   "metadata": {},
   "outputs": [],
   "source": [
    "# Download the California image\n",
    "download_fig(url, \"minespark\")\n"
   ]
  },
  {
   "cell_type": "code",
   "execution_count": null,
   "metadata": {},
   "outputs": [],
   "source": [
    "def plotScatter(points, fig_id):\n",
    "    "
   ]
  },
  {
   "cell_type": "code",
   "execution_count": null,
   "metadata": {},
   "outputs": [],
   "source": [
    "\n",
    "\n",
    "tmpdata = data_frame.copy()\n",
    "tmpdata[\"y\"] += 0.25\n",
    "housing_img=mpimg.imread(os.path.join(IMAGES_PATH, filename))\n",
    "# housing_img = cv2.flip(housing_img, 0)\n",
    "ax = tmpdata.plot(kind=\"scatter\", x=\"x\", y=\"y\", alpha=0.5,\n",
    "    figsize=(10,7),\n",
    "    sharex=False)\n",
    "ax=plt.gca()                            # get the axis\n",
    "ax.set_ylim(ax.get_ylim()[::-1])        # invert the axis\n",
    "ax.xaxis.tick_top()                     # and move the X-Axis      \n",
    "ax.yaxis.tick_left()                    # remove right y-Ticks\n",
    "plt.imshow(housing_img, extent=[0, 10, 0, 7],alpha=0.5,\n",
    "           cmap=plt.get_cmap(\"jet\"))\n",
    "\n",
    "# save_fig(filename+\"-test\")\n",
    "plt.show()"
   ]
  },
  {
   "cell_type": "code",
   "execution_count": null,
   "metadata": {},
   "outputs": [],
   "source": [
    "grouped = data_frame.groupby(by=['grid_id'])\n",
    "grid_sum = len(grouped.groups)"
   ]
  },
  {
   "cell_type": "code",
   "execution_count": null,
   "metadata": {},
   "outputs": [],
   "source": [
    "theta = np.full(shape=(grid_sum, len( sorted_mac)), fill_value=-100.)\n",
    "grid_index = 0\n",
    "grid_position = np.full(shape=(grid_sum, 2), fill_value=0)\n",
    "for name, group in grouped:\n",
    "            for index, row in group.iterrows():\n",
    "                if row['mac'] in sorted_mac:\n",
    "                    ap_index = sorted_mac.index(row['mac'])\n",
    "                    theta[grid_index, ap_index] = row['rssi']\n",
    "            grid_position[grid_index] = [group[\"x\"].mean(), group['y'].mean()]\n",
    "            grid_index += 1"
   ]
  },
  {
   "cell_type": "code",
   "execution_count": null,
   "metadata": {},
   "outputs": [],
   "source": [
    "data = {\"theta\": theta, \"position\": grid_position}\n",
    "data"
   ]
  },
  {
   "cell_type": "code",
   "execution_count": null,
   "metadata": {},
   "outputs": [],
   "source": [
    "df = pd.DataFrame({k:list(v) for k,v in data.items()})"
   ]
  },
  {
   "cell_type": "code",
   "execution_count": null,
   "metadata": {},
   "outputs": [],
   "source": [
    "df"
   ]
  },
  {
   "cell_type": "code",
   "execution_count": null,
   "metadata": {},
   "outputs": [],
   "source": [
    "df[\"theta\"][16]"
   ]
  },
  {
   "cell_type": "code",
   "execution_count": null,
   "metadata": {},
   "outputs": [],
   "source": [
    "def plot(target, predit):\n",
    "    housing_img=mpimg.imread(os.path.join(IMAGES_PATH, filename))\n",
    "    housing_img = cv2.flip(housing_img, 0)\n",
    "    plt.scatter(target[:, 0], target[:, 1], c='b', marker='s', label='-1')\n",
    "    for i in range(target.shape[0]):\n",
    "        plt.text(target[i, 0], target[i, 1], str(i))\n",
    "\n",
    "    plt.scatter(predict[:, 0], predict[:, 1], c='r', marker='s', label='-1')\n",
    "    for i in range(predict.shape[0]):\n",
    "        plt.text(predict[i,0], predict[i,1], str(i))\n",
    "\n",
    "    plt.imshow(housing_img, extent=[0, 10, 0, 7],alpha=0.5,\n",
    "            cmap=plt.get_cmap(\"jet\"))"
   ]
  },
  {
   "cell_type": "code",
   "execution_count": null,
   "metadata": {},
   "outputs": [],
   "source": [
    "from sklearn.linear_model import LinearRegression\n",
    "lin_reg = LinearRegression()\n"
   ]
  },
  {
   "cell_type": "code",
   "execution_count": null,
   "metadata": {},
   "outputs": [],
   "source": [
    "from sklearn.ensemble import RandomForestRegressor\n",
    "forest_reg = RandomForestRegressor(n_estimators=100, random_state=42)"
   ]
  },
  {
   "cell_type": "code",
   "execution_count": null,
   "metadata": {},
   "outputs": [],
   "source": [
    "from sklearn.svm import SVR\n",
    "svm_reg = SVR(kernel=\"linear\")"
   ]
  },
  {
   "cell_type": "code",
   "execution_count": null,
   "metadata": {},
   "outputs": [],
   "source": [
    "from sklearn.neighbors import KNeighborsClassifier\n",
    "knn = KNeighborsClassifier()"
   ]
  },
  {
   "cell_type": "code",
   "execution_count": null,
   "metadata": {},
   "outputs": [],
   "source": [
    "from sklearn.model_selection import cross_val_predict, cross_val_score\n",
    "\n",
    "predict = cross_val_predict(knn, data[\"theta\"], data[\"position\"],\n",
    "                         method=\"predict\", cv=3)\n",
    "                        \n",
    "# predict"
   ]
  },
  {
   "cell_type": "code",
   "execution_count": null,
   "metadata": {},
   "outputs": [],
   "source": [
    "target = data[\"position\"]\n",
    "plot(target, predict)"
   ]
  },
  {
   "cell_type": "code",
   "execution_count": null,
   "metadata": {},
   "outputs": [],
   "source": [
    "# {'target': target, 'predict': predict}"
   ]
  },
  {
   "cell_type": "code",
   "execution_count": null,
   "metadata": {},
   "outputs": [],
   "source": [
    "score = cross_val_score(knn, data[\"theta\"], data[\"position\"],\n",
    "                         scoring=\"neg_root_mean_squared_error\", cv=3)"
   ]
  },
  {
   "cell_type": "code",
   "execution_count": null,
   "metadata": {},
   "outputs": [],
   "source": [
    "score"
   ]
  },
  {
   "cell_type": "code",
   "execution_count": null,
   "metadata": {},
   "outputs": [],
   "source": [
    "test_df = process('test11_16.txt', sort_max)"
   ]
  },
  {
   "cell_type": "code",
   "execution_count": null,
   "metadata": {},
   "outputs": [],
   "source": [
    "test_df"
   ]
  },
  {
   "cell_type": "code",
   "execution_count": null,
   "metadata": {},
   "outputs": [],
   "source": [
    "final_predit = knn.predict(test_df[\"theta\"])"
   ]
  }
 ]
}