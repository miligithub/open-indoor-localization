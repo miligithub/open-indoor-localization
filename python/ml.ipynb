{
 "metadata": {
  "language_info": {
   "codemirror_mode": {
    "name": "ipython",
    "version": 3
   },
   "file_extension": ".py",
   "mimetype": "text/x-python",
   "name": "python",
   "nbconvert_exporter": "python",
   "pygments_lexer": "ipython3",
   "version": "3.7.9-final"
  },
  "orig_nbformat": 2,
  "kernelspec": {
   "name": "python3",
   "display_name": "Python 3"
  }
 },
 "nbformat": 4,
 "nbformat_minor": 2,
 "cells": [
  {
   "cell_type": "code",
   "execution_count": null,
   "metadata": {},
   "outputs": [],
   "source": [
    "# Python ≥3.5 is required\n",
    "import sys\n",
    "assert sys.version_info >= (3, 5)\n",
    "\n",
    "# Scikit-Learn ≥0.20 is required\n",
    "import sklearn\n",
    "assert sklearn.__version__ >= \"0.20\"\n",
    "\n",
    "from sklearn.metrics import confusion_matrix\n",
    "\n",
    "# Common imports\n",
    "import numpy as np\n",
    "import os\n",
    "import pandas as pd\n",
    "import itertools\n",
    "\n",
    "# To plot pretty figures\n",
    "%matplotlib inline\n",
    "import matplotlib as mpl\n",
    "import matplotlib.pyplot as plt\n",
    "import matplotlib.image as mpimg\n",
    "import cv2\n",
    "from sklearn.metrics import plot_confusion_matrix\n",
    "\n",
    "# plt.style.use(['seaborn-pastel','dark_background'])\n",
    "mpl.rcParams['figure.facecolor'] = 'whitesmoke'\n",
    "mpl.rcParams['axes.facecolor'] = 'white'\n",
    "# mpl.rcParams['figure.figsize'] = 7, 10\n",
    "mpl.rc('axes', labelsize=16)\n",
    "mpl.rc('xtick', labelsize=14)\n",
    "mpl.rc('ytick', labelsize=14)\n",
    "plt.rcParams.update({'font.size': 18})\n",
    "\n",
    "# show multiple outputs\n",
    "from IPython.core.interactiveshell import InteractiveShell\n",
    "InteractiveShell.ast_node_interactivity = \"all\"\n",
    "\n",
    "pd.set_option('display.max_columns', None)\n",
    "pd.set_option('display.max_rows', None)\n",
    "\n",
    "# download images\n",
    "import urllib.request\n",
    "\n",
    "# Where to save the figures\n",
    "PROJECT_ROOT_DIR = \".\"\n",
    "CHAPTER_ID = \"fingerprint\"\n",
    "IMAGES_PATH = os.path.join(PROJECT_ROOT_DIR, \"images\", CHAPTER_ID)\n",
    "os.makedirs(IMAGES_PATH, exist_ok=True)\n",
    "\n",
    "def save_fig(fig_id, tight_layout=True, fig_extension=\"png\", resolution=300):\n",
    "    path = os.path.join(IMAGES_PATH, fig_id + \".\" + fig_extension)\n",
    "    print(\"Saving figure\", fig_id)\n",
    "    if tight_layout:\n",
    "        plt.tight_layout()\n",
    "    plt.savefig(path, format=fig_extension, dpi=resolution)\n",
    "\n",
    "def download_fig(fig_id, fig_url, fig_extension=\"jpg\"):\n",
    "    print(\"Downloading\", fig_url)\n",
    "    req = urllib.request.Request(url)\n",
    "    # Customize the default User-Agent header value:\n",
    "    req.add_header('User-Agent', 'Mozilla/5.0')\n",
    "    response = urllib.request.urlopen(req)\n",
    "    image = response.read()\n",
    "    filename = fig_id + \".\" + fig_extension\n",
    "    with open(os.path.join(IMAGES_PATH, filename), \"wb\") as file:\n",
    "        file.write(image)\n",
    "\n",
    "# Ignore useless warnings (see SciPy issue #5998)\n",
    "import warnings\n",
    "warnings.filterwarnings(action=\"ignore\", message=\"^internal gelsd\")\n",
    "\n",
    "print(\"Setup finished!\")"
   ]
  },
  {
   "cell_type": "code",
   "execution_count": null,
   "metadata": {},
   "outputs": [],
   "source": [
    "# Download the image\n",
    "# url = 'https://www.mines.edu/residence-life/wp-content/uploads/sites/46/2019/11/2-Bedroom-Units-1-112.jpg'\n",
    "# download_fig('minespark', url)"
   ]
  },
  {
   "cell_type": "code",
   "execution_count": null,
   "metadata": {},
   "outputs": [],
   "source": [
    "def txtToDataFrame(file_name):\n",
    "    filef = open(file_name, 'r')\n",
    "    line = filef.readline()\n",
    "    data_dict = {'grid_id': [], 'x': [], 'y': [], 'mac': [], 'type': [], 'rssi': []}\n",
    "    grid_id = 0\n",
    "    while True:\n",
    "            if line.strip() is not '':\n",
    "                grid_id += 1\n",
    "                grid_title = line.split(' ')\n",
    "                # print(grid_title)\n",
    "                grid_pos = [float(grid_title[0]), float(grid_title[1])]\n",
    "                for i in range(int(grid_title[2])):\n",
    "                    line = filef.readline().rstrip('\\n')\n",
    "                    record = line.split('|')\n",
    "                    ap = record[0].split(' ')\n",
    "                    data_dict['grid_id'].append(grid_id)\n",
    "                    data_dict['x'].append(grid_pos[0])\n",
    "                    data_dict['y'].append(grid_pos[1])\n",
    "                    data_dict['mac'].append(ap[0][0:17])\n",
    "                    data_dict['type'].append(ap[2])\n",
    "                    rssi_list = record[1].strip().split(' ') if record[1].strip() != '' else [ap[1]]\n",
    "                    data_dict['rssi'].append(float(np.array(rssi_list).astype(np.float).mean()))\n",
    "            line = filef.readline()\n",
    "            if not line:\n",
    "                break\n",
    "    filef.close()\n",
    "    data_frame = pd.DataFrame.from_dict(data_dict)\n",
    "    return data_frame"
   ]
  },
  {
   "cell_type": "code",
   "execution_count": null,
   "metadata": {},
   "outputs": [],
   "source": [
    "def plotTrain(train_data, fig_name, width, height):\n",
    "    housing_img=mpimg.imread(os.path.join(IMAGES_PATH, fig_name))\n",
    "    housing_img = cv2.flip(housing_img, 0)\n",
    "    train_data.plot(kind='scatter', x='x', y='y', s=width*20,)\n",
    "    plt.ylim(height, 0)\n",
    "    plt.imshow(housing_img, alpha=1.0, extent=[0, width, 0, height], cmap=plt.get_cmap('jet'))"
   ]
  },
  {
   "cell_type": "code",
   "execution_count": null,
   "metadata": {},
   "outputs": [],
   "source": [
    "df = txtToDataFrame('train11_19.txt')\n",
    "width = 6\n",
    "height = 8\n",
    "mpl.rcParams['figure.figsize'] = width*1.2, height*1.2"
   ]
  },
  {
   "cell_type": "code",
   "execution_count": null,
   "metadata": {},
   "outputs": [],
   "source": [
    "# df"
   ]
  },
  {
   "cell_type": "code",
   "execution_count": null,
   "metadata": {},
   "outputs": [],
   "source": [
    "position = df.loc[:,['x', 'y']]\n",
    "plotTrain(position,'minespark.jpg', width, height)"
   ]
  },
  {
   "cell_type": "code",
   "execution_count": null,
   "metadata": {},
   "outputs": [],
   "source": [
    "def createSortedMAC(data_frame):\n",
    "    grouped_df = data_frame.groupby(by=['x','y'])\n",
    "    # for key,item in grouped_df:\n",
    "    #     a_group = grouped_df.get_group(key)\n",
    "    #     print(a_group, \"\\n\")\n",
    "    sorted_mac = None\n",
    "    filter_mac = None\n",
    "    use_type = 'w'\n",
    "    grid_sum = len(grouped_df.groups)\n",
    "    if not sorted_mac:\n",
    "        mac = set(data_frame[data_frame['type'] == use_type]['mac'].unique())\n",
    "        sorted_mac = sorted(mac & filter_mac if filter_mac else mac)\n",
    "    return sorted_mac"
   ]
  },
  {
   "cell_type": "code",
   "execution_count": null,
   "metadata": {},
   "outputs": [],
   "source": [
    "sorted_mac = createSortedMAC(df)\n",
    "feature_num = len(sorted_mac)"
   ]
  },
  {
   "cell_type": "code",
   "execution_count": null,
   "metadata": {},
   "outputs": [],
   "source": [
    "def process(data_frame, sorted_mac):\n",
    "    grouped = data_frame.groupby(by=['grid_id'])\n",
    "    grid_sum = len(grouped.groups)\n",
    "    # cols = ['room', 'x', 'y']\n",
    "    cols = ['room']\n",
    "    cols.extend(sorted_mac)\n",
    "    new_data_frame = pd.DataFrame(columns = cols,  index = range(grid_sum))\n",
    "    grid_index = 0\n",
    "    for name, group in grouped:\n",
    "            for index, row in group.iterrows():\n",
    "                if row['mac'] in sorted_mac:\n",
    "                    new_data_frame.loc[grid_index, row['mac']] = row['rssi']                    \n",
    "                    x, y = row['x'], row['y']\n",
    "                    if x<=width/2:\n",
    "                        if y <= height/2:\n",
    "                            new_data_frame.loc[grid_index, 'room'] = 1\n",
    "                        else:\n",
    "                            new_data_frame.loc[grid_index, 'room'] = 2\n",
    "                    else:\n",
    "                        if y <= height/2:\n",
    "                            new_data_frame.loc[grid_index, 'room'] = 3\n",
    "                        else:\n",
    "                            new_data_frame.loc[grid_index, 'room'] = 4\n",
    "            grid_index += 1 \n",
    "    return new_data_frame.sort_values(by = 'room')"
   ]
  },
  {
   "cell_type": "code",
   "execution_count": null,
   "metadata": {},
   "outputs": [],
   "source": [
    "train_df = process(df, sorted_mac)\n",
    "train_df"
   ]
  },
  {
   "cell_type": "code",
   "execution_count": null,
   "metadata": {},
   "outputs": [],
   "source": [
    "def plotTrainMac(train_data, sorted_mac, fig_name, width, height):\n",
    "    housing_img=mpimg.imread(os.path.join(IMAGES_PATH, fig_name))\n",
    "    housing_img = cv2.flip(housing_img, 0)\n",
    "    # data = pd.DataFrame(columns=['room', 'x', 'y', 'rssi'])\n",
    "    data = pd.DataFrame(columns=sorted_mac)\n",
    "    \n",
    "    for i in range(1,5):\n",
    "        room_mean = train_data.loc[train_df.room == i].mean().array[1:]\n",
    "        data.append({sorted_mac[i]: room_mean[i] for i in range(len(room_mean))}, ignore_index=True)\n",
    "\n",
    "    # print(data)\n",
    "    # for i in range(10):\n",
    "    #     col = train_data[sorted_mac[i]]\n",
    "    #     roomX = (train_data['room']+1)%2*(width/2) + width/4 + np.random.random()\n",
    "    #     roomY = (train_data['room']+1)%2*(height/2) + height/4 + np.random.random()\n",
    "    #     data.append({'room':train_data['room'], 'x':roomX, 'y':roomY, 'rssi':col}, ignore_index=True)\n",
    "    # print(data)\n",
    "    # data = pd.DataFrame({'room':train_data['room'], 'x':roomX, 'y':roomY, 'rssi':col})\n",
    "    # df.plot(kind='scatter', x='x', y='y', s=width*40, alpha=0.5,\n",
    "    #     c=\"rssi\", cmap=plt.get_cmap(\"jet\"), colorbar=True,\n",
    "    #     sharex=True)    \n",
    "    # plt.ylim(height, 0)\n",
    "    # plt.imshow(housing_img, alpha=1.0, extent=[0, width, 0, height], cmap=plt.get_cmap('jet'))\n",
    "# plotTrainMac(train_df, sorted_mac, \"minespark.jpg\", width, height)"
   ]
  },
  {
   "cell_type": "code",
   "execution_count": null,
   "metadata": {},
   "outputs": [],
   "source": [
    "\n",
    "train_all_average = train_df.mean()\n",
    "# train_all_average"
   ]
  },
  {
   "cell_type": "code",
   "execution_count": null,
   "metadata": {},
   "outputs": [],
   "source": [
    "df"
   ]
  },
  {
   "cell_type": "code",
   "execution_count": null,
   "metadata": {},
   "outputs": [],
   "source": [
    "train_df.info()"
   ]
  },
  {
   "cell_type": "code",
   "execution_count": null,
   "metadata": {},
   "outputs": [],
   "source": [
    "\n",
    "for i in range(1,5):\n",
    "    train_df.loc[train_df.room == i] = train_df.loc[train_df.room == i].fillna(train_df.loc[train_df.room == i].mean())\n",
    "train_df"
   ]
  },
  {
   "cell_type": "code",
   "execution_count": null,
   "metadata": {},
   "outputs": [],
   "source": [
    "train_df = train_df.fillna(-100)"
   ]
  },
  {
   "cell_type": "code",
   "execution_count": null,
   "metadata": {},
   "outputs": [],
   "source": [
    "# from sklearn.preprocessing import RobustScaler, StandardScaler, MinMaxScaler\n",
    "# train_df.iloc[:, 1:feature_num] = MinMaxScaler().fit_transform(train_df.iloc[:, 1:feature_num])\n",
    "# tmp  = train_df.iloc[:, 1:feature_num].pow(0)*10\n",
    "# train_df.iloc[:, 1:feature_num] = tmp.pow(train_df.iloc[:, 1:feature_num])\n",
    "\n",
    "# train_df\n",
    "# train_df = train_df.fillna(0)"
   ]
  },
  {
   "cell_type": "code",
   "execution_count": null,
   "metadata": {},
   "outputs": [],
   "source": [
    "from sklearn.svm import SVC\n",
    "svm_clf = SVC()"
   ]
  },
  {
   "cell_type": "code",
   "execution_count": null,
   "metadata": {},
   "outputs": [],
   "source": [
    "from sklearn.neighbors import KNeighborsClassifier\n",
    "knn = KNeighborsClassifier(n_neighbors=3)"
   ]
  },
  {
   "cell_type": "code",
   "execution_count": null,
   "metadata": {},
   "outputs": [],
   "source": [
    "from sklearn.model_selection import cross_val_predict, cross_val_score\n",
    "# train_df.info()\n",
    "featureStart = 1\n",
    "featureEnd = 35\n",
    "features = train_df.iloc[:, featureStart:featureEnd].to_numpy()\n",
    "# features\n",
    "train_truth = train_df['room']\n",
    "\n",
    "# classifier = svm_clf\n",
    "classifier = knn\n",
    "train_predict = cross_val_predict(classifier, features, train_truth, method='predict', cv=3)\n",
    "score = cross_val_score(classifier, features, train_truth, scoring='neg_root_mean_squared_error', cv=3)\n",
    "score"
   ]
  },
  {
   "cell_type": "code",
   "execution_count": null,
   "metadata": {},
   "outputs": [],
   "source": [
    "def plot_confusion_matrix(cm, target_names, title='Confusion matrix', cmap=None, normalize=True):\n",
    "    \"\"\"Citiation\n",
    "    ---------\n",
    "    http://scikit-learn.org/stable/auto_examples/model_selection/plot_confusion_matrix.html\n",
    "\n",
    "    \"\"\"\n",
    "    accuracy = np.trace(cm) / float(np.sum(cm))\n",
    "    misclass = 1 - accuracy\n",
    "\n",
    "    if cmap is None:\n",
    "        cmap = plt.get_cmap('Blues')\n",
    "\n",
    "    plt.figure(figsize=(height, width))\n",
    "    plt.imshow(cm, interpolation='nearest', cmap=cmap)\n",
    "    plt.title(title)\n",
    "    plt.colorbar()\n",
    "\n",
    "    if target_names is not None:\n",
    "        tick_marks = np.arange(len(target_names))\n",
    "        plt.xticks(tick_marks, target_names, rotation=45)\n",
    "        plt.yticks(tick_marks, target_names)\n",
    "\n",
    "    if normalize:\n",
    "        cm = cm.astype('float') / cm.sum(axis=1)[:, np.newaxis]\n",
    "\n",
    "    thresh = cm.max() / 1.5 if normalize else cm.max() / 2\n",
    "    for i, j in itertools.product(range(cm.shape[0]), range(cm.shape[1])):\n",
    "        if normalize:\n",
    "            plt.text(j, i, \"{:0.4f}\".format(cm[i, j]),\n",
    "                     horizontalalignment=\"center\",\n",
    "                     color=\"white\" if cm[i, j] > thresh else \"black\")\n",
    "        else:\n",
    "            plt.text(j, i, \"{:,}\".format(cm[i, j]),\n",
    "                     horizontalalignment=\"center\",\n",
    "                     color=\"white\" if cm[i, j] > thresh else \"black\")\n",
    "\n",
    "    plt.tight_layout()\n",
    "    plt.ylabel('True label')\n",
    "    plt.xlabel('Predicted label\\naccuracy={:0.4f}; misclass={:0.4f}'.format(accuracy, misclass))\n",
    "    plt.show()"
   ]
  },
  {
   "cell_type": "code",
   "execution_count": null,
   "metadata": {},
   "outputs": [],
   "source": [
    "conf_mx = confusion_matrix(train_truth, train_predict)\n",
    "plot_confusion_matrix(cm           = conf_mx, \n",
    "                      normalize    = False,\n",
    "                      target_names = ['room' + str(i) for i in range(1,5)],\n",
    "                      title        = \"Confusion Matrix\")"
   ]
  },
  {
   "cell_type": "code",
   "execution_count": null,
   "metadata": {},
   "outputs": [],
   "source": [
    "test_df_raw = txtToDataFrame('test11_19.txt')\n",
    "test_df = process(test_df_raw, sorted_mac)\n",
    "test_df = test_df.fillna(train_df.mean())\n",
    "x_test = test_df.iloc[:, featureStart:featureEnd]\n",
    "y_test = test_df['room']\n",
    "# x_test, y_test = features, train_truth\n",
    "\n",
    "classifier.fit(features, train_truth)\n",
    "y_predict = classifier.predict(x_test)\n",
    "conf_mx = confusion_matrix(y_test, y_predict)\n",
    "plot_confusion_matrix(cm           = conf_mx, \n",
    "                      normalize    = False,\n",
    "                      target_names = ['room' + str(i) for i in range(1,5)],\n",
    "                      title        = \"Confusion Matrix\")\n"
   ]
  }
 ]
}