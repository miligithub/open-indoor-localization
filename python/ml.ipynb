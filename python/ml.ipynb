{
 "metadata": {
  "language_info": {
   "codemirror_mode": {
    "name": "ipython",
    "version": 3
   },
   "file_extension": ".py",
   "mimetype": "text/x-python",
   "name": "python",
   "nbconvert_exporter": "python",
   "pygments_lexer": "ipython3",
   "version": "3.8.3-final"
  },
  "orig_nbformat": 2,
  "kernelspec": {
   "name": "python3",
   "display_name": "Python 3"
  }
 },
 "nbformat": 4,
 "nbformat_minor": 2,
 "cells": [
  {
   "cell_type": "code",
   "execution_count": 1,
   "metadata": {},
   "outputs": [
    {
     "output_type": "stream",
     "name": "stdout",
     "text": [
      "Setup finished!\n"
     ]
    }
   ],
   "source": [
    "# Python ≥3.5 is required\n",
    "import sys\n",
    "assert sys.version_info >= (3, 5)\n",
    "\n",
    "# Scikit-Learn ≥0.20 is required\n",
    "import sklearn\n",
    "assert sklearn.__version__ >= \"0.20\"\n",
    "\n",
    "# Common imports\n",
    "import numpy as np\n",
    "import os\n",
    "import pandas as pd\n",
    "\n",
    "# To plot pretty figures\n",
    "%matplotlib inline\n",
    "import matplotlib as mpl\n",
    "import matplotlib.pyplot as plt\n",
    "\n",
    "# plt.style.use(['seaborn-pastel','dark_background'])\n",
    "mpl.rcParams['figure.facecolor'] = 'whitesmoke'\n",
    "mpl.rcParams['axes.facecolor'] = 'white'\n",
    "mpl.rc('axes', labelsize=14)\n",
    "mpl.rc('xtick', labelsize=12)\n",
    "mpl.rc('ytick', labelsize=12)\n",
    "\n",
    "# show multiple outputs\n",
    "from IPython.core.interactiveshell import InteractiveShell\n",
    "InteractiveShell.ast_node_interactivity = \"all\"\n",
    "\n",
    "# Where to save the figures\n",
    "PROJECT_ROOT_DIR = \".\"\n",
    "CHAPTER_ID = \"fingerprint\"\n",
    "IMAGES_PATH = os.path.join(PROJECT_ROOT_DIR, \"images\", CHAPTER_ID)\n",
    "os.makedirs(IMAGES_PATH, exist_ok=True)\n",
    "\n",
    "def save_fig(fig_id, tight_layout=True, fig_extension=\"png\", resolution=300):\n",
    "    path = os.path.join(IMAGES_PATH, fig_id + \".\" + fig_extension)\n",
    "    print(\"Saving figure\", fig_id)\n",
    "    if tight_layout:\n",
    "        plt.tight_layout()\n",
    "    plt.savefig(path, format=fig_extension, dpi=resolution)\n",
    "\n",
    "# Ignore useless warnings (see SciPy issue #5998)\n",
    "import warnings\n",
    "warnings.filterwarnings(action=\"ignore\", message=\"^internal gelsd\")\n",
    "\n",
    "\n",
    "print(\"Setup finished!\")"
   ]
  },
  {
   "cell_type": "code",
   "execution_count": 2,
   "metadata": {},
   "outputs": [],
   "source": [
    "file_name = \"train11_16.txt\""
   ]
  },
  {
   "cell_type": "code",
   "execution_count": 3,
   "metadata": {},
   "outputs": [
    {
     "output_type": "stream",
     "name": "stdout",
     "text": [
      "['8.00', '1.00', '18', '2020-11-16-00:56:44\\n']\n['8.00', '1.00', '18', '2020-11-16-00:57:20\\n']\n['8.00', '2.00', '18', '2020-11-16-00:57:35\\n']\n['7.00', '2.00', '18', '2020-11-16-00:57:49\\n']\n['6.00', '2.00', '18', '2020-11-16-00:57:59\\n']\n['4.00', '2.00', '18', '2020-11-16-00:58:17\\n']\n['5.00', '1.00', '18', '2020-11-16-00:58:29\\n']\n['5.00', '1.00', '19', '2020-11-16-00:58:46\\n']\n['5.00', '3.00', '19', '2020-11-16-00:59:11\\n']\n['4.00', '5.00', '19', '2020-11-16-00:59:26\\n']\n['6.00', '5.00', '19', '2020-11-16-00:59:41\\n']\n['6.00', '5.00', '19', '2020-11-16-01:00:00\\n']\n['6.00', '4.00', '19', '2020-11-16-01:00:09\\n']\n['2.00', '5.00', '19', '2020-11-16-01:00:29\\n']\n['2.00', '3.00', '19', '2020-11-16-01:00:41\\n']\n['3.00', '4.00', '16', '2020-11-16-01:01:41\\n']\n['2.00', '1.00', '16', '2020-11-16-01:01:59\\n']\n['3.00', '1.00', '16', '2020-11-16-01:02:15\\n']\n"
     ]
    }
   ],
   "source": [
    "file = open(file_name, \"r\")\n",
    "line = file.readline()\n",
    "data_dict = {'grid_id': [], 'x': [], 'y': [], 'mac': [], 'type': [], 'rssi': []}\n",
    "grid_id = 0\n",
    "while True:\n",
    "            if line.strip() is not '':\n",
    "                grid_id += 1\n",
    "                grid_title = line.split(\" \")\n",
    "                print(grid_title)\n",
    "                grid_pos = [float(grid_title[0]), float(grid_title[1])]\n",
    "                for i in range(int(grid_title[2])):\n",
    "                    line = file.readline().rstrip(\"\\n\")\n",
    "                    record = line.split(\"|\")\n",
    "                    ap = record[0].split(\" \")\n",
    "                    data_dict['grid_id'].append(grid_id)\n",
    "                    data_dict['x'].append(grid_pos[0])\n",
    "                    data_dict['y'].append(grid_pos[1])\n",
    "                    data_dict['mac'].append(ap[0][0:17])\n",
    "                    data_dict['type'].append(ap[2])\n",
    "                    rssi_list = record[1].strip().split(' ') if record[1].strip() != '' else [ap[1]]\n",
    "                    data_dict['rssi'].append(float(np.array(rssi_list).astype(np.float).mean()))\n",
    "            line = file.readline()\n",
    "            if not line:\n",
    "                break\n",
    "file.close()"
   ]
  },
  {
   "cell_type": "code",
   "execution_count": 5,
   "metadata": {},
   "outputs": [
    {
     "output_type": "stream",
     "name": "stdout",
     "text": [
      "<class 'pandas.core.frame.DataFrame'>\nRangeIndex: 326 entries, 0 to 325\nData columns (total 6 columns):\n #   Column   Non-Null Count  Dtype  \n---  ------   --------------  -----  \n 0   grid_id  326 non-null    int64  \n 1   x        326 non-null    float64\n 2   y        326 non-null    float64\n 3   mac      326 non-null    object \n 4   type     326 non-null    object \n 5   rssi     326 non-null    float64\ndtypes: float64(3), int64(1), object(2)\nmemory usage: 15.4+ KB\n"
     ]
    },
    {
     "output_type": "execute_result",
     "data": {
      "text/plain": [
       "     grid_id    x    y                mac type  rssi\n",
       "0          1  8.0  1.0  70:8b:cd:5e:4f:f0    w -88.0\n",
       "1          1  8.0  1.0  04:bd:88:76:f9:f1    w -46.0\n",
       "2          1  8.0  1.0  04:bd:88:76:f9:e0    w -51.0\n",
       "3          1  8.0  1.0  04:bd:88:76:f9:f0    w -45.0\n",
       "4          1  8.0  1.0  04:bd:88:76:f9:e2    w -49.0\n",
       "..       ...  ...  ...                ...  ...   ...\n",
       "321       18  3.0  1.0  04:bd:88:76:f4:21    w -86.0\n",
       "322       18  3.0  1.0  04:bd:88:76:f4:20    w -87.0\n",
       "323       18  3.0  1.0  04:bd:88:77:07:22    w -90.0\n",
       "324       18  3.0  1.0  04:bd:88:76:f5:81    w -88.0\n",
       "325       18  3.0  1.0  04:bd:88:76:f5:80    w -86.0\n",
       "\n",
       "[326 rows x 6 columns]"
      ],
      "text/html": "<div>\n<style scoped>\n    .dataframe tbody tr th:only-of-type {\n        vertical-align: middle;\n    }\n\n    .dataframe tbody tr th {\n        vertical-align: top;\n    }\n\n    .dataframe thead th {\n        text-align: right;\n    }\n</style>\n<table border=\"1\" class=\"dataframe\">\n  <thead>\n    <tr style=\"text-align: right;\">\n      <th></th>\n      <th>grid_id</th>\n      <th>x</th>\n      <th>y</th>\n      <th>mac</th>\n      <th>type</th>\n      <th>rssi</th>\n    </tr>\n  </thead>\n  <tbody>\n    <tr>\n      <th>0</th>\n      <td>1</td>\n      <td>8.0</td>\n      <td>1.0</td>\n      <td>70:8b:cd:5e:4f:f0</td>\n      <td>w</td>\n      <td>-88.0</td>\n    </tr>\n    <tr>\n      <th>1</th>\n      <td>1</td>\n      <td>8.0</td>\n      <td>1.0</td>\n      <td>04:bd:88:76:f9:f1</td>\n      <td>w</td>\n      <td>-46.0</td>\n    </tr>\n    <tr>\n      <th>2</th>\n      <td>1</td>\n      <td>8.0</td>\n      <td>1.0</td>\n      <td>04:bd:88:76:f9:e0</td>\n      <td>w</td>\n      <td>-51.0</td>\n    </tr>\n    <tr>\n      <th>3</th>\n      <td>1</td>\n      <td>8.0</td>\n      <td>1.0</td>\n      <td>04:bd:88:76:f9:f0</td>\n      <td>w</td>\n      <td>-45.0</td>\n    </tr>\n    <tr>\n      <th>4</th>\n      <td>1</td>\n      <td>8.0</td>\n      <td>1.0</td>\n      <td>04:bd:88:76:f9:e2</td>\n      <td>w</td>\n      <td>-49.0</td>\n    </tr>\n    <tr>\n      <th>...</th>\n      <td>...</td>\n      <td>...</td>\n      <td>...</td>\n      <td>...</td>\n      <td>...</td>\n      <td>...</td>\n    </tr>\n    <tr>\n      <th>321</th>\n      <td>18</td>\n      <td>3.0</td>\n      <td>1.0</td>\n      <td>04:bd:88:76:f4:21</td>\n      <td>w</td>\n      <td>-86.0</td>\n    </tr>\n    <tr>\n      <th>322</th>\n      <td>18</td>\n      <td>3.0</td>\n      <td>1.0</td>\n      <td>04:bd:88:76:f4:20</td>\n      <td>w</td>\n      <td>-87.0</td>\n    </tr>\n    <tr>\n      <th>323</th>\n      <td>18</td>\n      <td>3.0</td>\n      <td>1.0</td>\n      <td>04:bd:88:77:07:22</td>\n      <td>w</td>\n      <td>-90.0</td>\n    </tr>\n    <tr>\n      <th>324</th>\n      <td>18</td>\n      <td>3.0</td>\n      <td>1.0</td>\n      <td>04:bd:88:76:f5:81</td>\n      <td>w</td>\n      <td>-88.0</td>\n    </tr>\n    <tr>\n      <th>325</th>\n      <td>18</td>\n      <td>3.0</td>\n      <td>1.0</td>\n      <td>04:bd:88:76:f5:80</td>\n      <td>w</td>\n      <td>-86.0</td>\n    </tr>\n  </tbody>\n</table>\n<p>326 rows × 6 columns</p>\n</div>"
     },
     "metadata": {},
     "execution_count": 5
    }
   ],
   "source": [
    "data_frame = pd.DataFrame.from_dict(data_dict)\n",
    "data_frame.info()\n",
    "data_frame"
   ]
  }
 ]
}